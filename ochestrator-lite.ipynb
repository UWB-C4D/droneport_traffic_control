{
 "cells": [
  {
   "cell_type": "markdown",
   "id": "convertible-lemon",
   "metadata": {},
   "source": [
    "# Orchestrator: Lightweight prototype\n",
    "\n",
    "Droneport is a system for autonomous drone battery management. It consists of both hardware and software components. One of the software components is Droneport Traffic Control, which takes care of controlling the whole system; i.e., it sends commands to both drones and ports. Part of this component is the so-called Droneport Ochestrator, whose purpose is to schedule the drone's battery replacement with respect to the specified missions and battery status.\n",
    "\n",
    "Originally, the orchestrator was developed in file *orchestrator.ipynb* based on article \n",
    ">Song, B. D., Kim, J., & Morrison, J. R. (2016). Rolling Horizon Path Planning of an Autonomous System of UAVs for Persistent Cooperative Service: MILP Formulation and Efficient Heuristics. Journal of Intelligent & Robotic Systems, 84(1–4), 241–258. https://doi.org/10.1007/s10846-015-0280-5. \n",
    "\n",
    "This version focuses on implementing a simple scenario with two drones and two droneports, where each drone has its own route. However, the methods and tools used will be identical.\n",
    "\n",
    "The paths are based on the files from Droneport example presented at the Dronfest.\n",
    "\n",
    "## Implementation"
   ]
  },
  {
   "cell_type": "code",
   "execution_count": 1,
   "id": "august-signal",
   "metadata": {},
   "outputs": [],
   "source": [
    "import numpy as np\n",
    "import numpy.matlib\n",
    "import matplotlib.pyplot as plt\n",
    "import tikzplotlib as tplt\n",
    "from pyomo.environ import *\n",
    "from gurobipy import GRB \n",
    "from pyomo.contrib import appsi\n",
    "import pandas as pd\n",
    "from pathlib import Path\n",
    "# import pickle5 as pickle\n",
    "import pickle\n",
    "from pymavlink import mavutil,mavwp\n",
    "from geopy.distance import distance\n",
    "\n",
    "def dist(a, b):\n",
    "    # distance using GEOPY\n",
    "    # Input: mission_items with lon, lat in a.x, a.y\n",
    "    # Output: distance of two points in meters\n",
    "    return distance((a.x, a.y),(b.x, b.y)).m"
   ]
  },
  {
   "cell_type": "code",
   "execution_count": 2,
   "id": "southern-gallery",
   "metadata": {},
   "outputs": [
    {
     "name": "stdout",
     "output_type": "stream",
     "text": [
      "park_drone1_short.pkl\n"
     ]
    },
    {
     "ename": "NameError",
     "evalue": "name 'mission_current' is not defined",
     "output_type": "error",
     "traceback": [
      "\u001b[0;31m---------------------------------------------------------------------------\u001b[0m",
      "\u001b[0;31mNameError\u001b[0m                                 Traceback (most recent call last)",
      "\u001b[0;32m<ipython-input-2-3a6907917251>\u001b[0m in \u001b[0;36m<module>\u001b[0;34m\u001b[0m\n\u001b[1;32m     12\u001b[0m \u001b[0;32mfor\u001b[0m \u001b[0mmission\u001b[0m \u001b[0;32min\u001b[0m \u001b[0mmission_files\u001b[0m\u001b[0;34m:\u001b[0m\u001b[0;34m\u001b[0m\u001b[0;34m\u001b[0m\u001b[0m\n\u001b[1;32m     13\u001b[0m     \u001b[0;32mwith\u001b[0m \u001b[0mopen\u001b[0m\u001b[0;34m(\u001b[0m\u001b[0mDATA_PATH\u001b[0m\u001b[0;34m+\u001b[0m\u001b[0mmission_files\u001b[0m\u001b[0;34m[\u001b[0m\u001b[0mmission\u001b[0m\u001b[0;34m]\u001b[0m\u001b[0;34m,\u001b[0m \u001b[0;34m'rb'\u001b[0m\u001b[0;34m)\u001b[0m \u001b[0;32mas\u001b[0m \u001b[0minfile\u001b[0m\u001b[0;34m:\u001b[0m\u001b[0;34m\u001b[0m\u001b[0;34m\u001b[0m\u001b[0m\n\u001b[0;32m---> 14\u001b[0;31m         mission_current[mission], mission_count[mission], mission_items[mission] = pickle.load(\n\u001b[0m\u001b[1;32m     15\u001b[0m             infile)\n",
      "\u001b[0;31mNameError\u001b[0m: name 'mission_current' is not defined"
     ]
    }
   ],
   "source": [
    "DATA_PATH = 'data/'\n",
    "n_drones = 2\n",
    "n_droneports = 2\n",
    "# parameters\n",
    "# name of file for saving and reuploading mission\n",
    "mission_files = {\n",
    "    1: 'park_drone1_short.pkl',\n",
    "    2: 'park_drone2_short.pkl'\n",
    "}\n",
    "print(mission_files[1])\n",
    "\n",
    "for mission in mission_files:\n",
    "    with open(DATA_PATH+mission_files[mission], 'rb') as infile:\n",
    "        mission_current[mission], mission_count[mission], mission_items[mission] = pickle.load(\n",
    "            infile)\n"
   ]
  },
  {
   "cell_type": "code",
   "execution_count": null,
   "id": "attended-montreal",
   "metadata": {},
   "outputs": [],
   "source": [
    "dist(mission_items[2],mission_items[6])"
   ]
  },
  {
   "cell_type": "code",
   "execution_count": null,
   "id": "fresh-denial",
   "metadata": {},
   "outputs": [],
   "source": [
    "mission_current[mission]"
   ]
  },
  {
   "cell_type": "code",
   "execution_count": null,
   "id": "considered-hunter",
   "metadata": {},
   "outputs": [],
   "source": []
  }
 ],
 "metadata": {
  "kernelspec": {
   "display_name": "Python 3",
   "language": "python",
   "name": "python3"
  },
  "language_info": {
   "codemirror_mode": {
    "name": "ipython",
    "version": 3
   },
   "file_extension": ".py",
   "mimetype": "text/x-python",
   "name": "python",
   "nbconvert_exporter": "python",
   "pygments_lexer": "ipython3",
   "version": "3.8.8"
  }
 },
 "nbformat": 4,
 "nbformat_minor": 5
}
